{
 "cells": [
  {
   "cell_type": "markdown",
   "id": "7e1aa208-4adb-4d5a-94a7-fc8794f07fbb",
   "metadata": {},
   "source": [
    "<div class=\"alert alert-block alert-success\" style=\"color:black\">\n",
    "    <h1>Self-Checker Notebook: workbook3</h1>\n",
    "<p> When you have completed workbook3 it should produce a file called <code>student_wb3.py</code> in the folder <code>studentcode</code></p>\n",
    "    <p>Run the code cells in notebook to check your code for syntax errors <b>before you submit to the marking server</b></p>\n",
    "    <p> This will help you avoid wasting submission attemopts</p>\n",
    "</div>"
   ]
  },
  {
   "cell_type": "markdown",
   "id": "b2e73fe5-a3b6-4375-8fe6-05dda63f59c3",
   "metadata": {},
   "source": [
    "### Run next cell to set up code imports"
   ]
  },
  {
   "cell_type": "code",
   "execution_count": 1,
   "id": "c3159e46-d8af-4c4c-a3f9-c9de4a973efc",
   "metadata": {},
   "outputs": [],
   "source": [
    "#import your code\n",
    "from sys import path\n",
    "student_codepath = \"studentcode\"\n",
    "path.append(\"../common\")\n",
    "path.append(student_codepath)\n",
    "from approvedimports import *\n",
    "from mazenodisplay import Maze\n",
    "from wb3_selfcheck import *"
   ]
  },
  {
   "cell_type": "markdown",
   "id": "bb118bf1-9369-48a6-8959-a8a80b00484b",
   "metadata": {},
   "source": [
    "### Run the next cell to see if your code can be imported"
   ]
  },
  {
   "cell_type": "code",
   "execution_count": 2,
   "id": "53569423-03df-4474-9936-de5d3f61333f",
   "metadata": {},
   "outputs": [],
   "source": [
    "try:\n",
    "    from student_wb3 import DepthFirstSearch\n",
    "    from student_wb3 import BreadthFirstSearch\n",
    "    from student_wb3 import BestFirstSearch\n",
    "    from student_wb3 import AStarSearch\n",
    "\n",
    "    wall_colour= 0.0\n",
    "    hole_colour = 1.0\n",
    "\n",
    "    from student_wb3 import create_maze_breaks_depthfirst\n",
    "    from student_wb3 import create_maze_depth_better\n",
    "except ImportError as e:\n",
    "    fullpath  = student_codepath +\"/student_wb3.py\"\n",
    "    outStr = f\"\\nImport Error {e}\\nfile contents\\n\"\n",
    "    with open(fullpath,'r') as file:\n",
    "        for line in file:\n",
    "            outStr += line\n",
    "    print(outStr)"
   ]
  },
  {
   "cell_type": "markdown",
   "id": "59af69f3-3365-4443-b826-11de97e4170f",
   "metadata": {},
   "source": [
    "### Run this last cell to test your code\n",
    "\n",
    "For self checking, the scores for each of your functions are as follows:\n",
    "- 2 if it runs ok and produces the correct result for a single test case.\n",
    "- 1 if it runs ok but produces the incorrect result for a single test case.\n",
    "- 0 if it does not run with our testing code.\n",
    "\n",
    "The marking server uses different (and more) test cases."
   ]
  },
  {
   "cell_type": "code",
   "execution_count": 3,
   "id": "9d6fe302-22b1-469d-a770-0821879ef320",
   "metadata": {},
   "outputs": [
    {
     "data": {
      "image/png": "[encoded data removed]",
      "text/plain": [
       "<Figure size 500x500 with 1 Axes>"
      ]
     },
     "metadata": {},
     "output_type": "display_data"
    },
    {
     "data": {
      "image/png": "[encoded data removed]",
      "text/plain": [
       "<Figure size 500x500 with 1 Axes>"
      ]
     },
     "metadata": {},
     "output_type": "display_data"
    },
    {
     "name": "stdout",
     "output_type": "stream",
     "text": [
      "Your code scores 12 out of 12 on the self checker\n"
     ]
    },
    {
     "data": {
      "text/html": [
       "<p></p><div style='border:2px solid darkred;padding:5px'><b>Testing your class definition code</b><p></p>Your code ran and found a solution on this maze.<br>You will get some marks.<br><br>You score 2 out of 2 for your implementation of depth-first.</div><p></p><div style='border:2px solid darkred;padding:5px'><b>Testing your class definition code</b><p></p>Your code ran and found a solution on this maze.<br>You will get some marks.<br><br>You score 2 out of 2 for your implementation of breadth-first.</div><p></p><div style='border:2px solid darkred;padding:5px'><b>Testing your class definition code</b><p></p>Your code ran and found a solution on this maze.<br>You will get some marks.<br><br>You score 2 out of 2 for your implementation of best-first.</div><p></p><div style='border:2px solid darkred;padding:5px'><b>Testing your class definition code</b><p></p>Your code ran and found a solution on this maze.<br>You will get some marks.<br><br>You score 2 out of 2 for your implementation of A Star.</div><p></p><div style='border:2px solid darkred;padding:5px'><b>Testing your maze that breaks depth-first</b><br>using the <i>correct</i> search algorithm.<p></p><p></p><p> You score 2 for this part</b></p>your code produced a mazefile  that could be loaded, so you may score some marks.<br></div><p></p><div style='border:2px solid darkred;padding:5px'><b>Testing your maze where depth-first outperforms breadth-first</b><br>using the <i>correct</i> search algorithm.<p></p><p> You score 2 for this part</b></p>your code produced a mazefile  that could be loaded.<br>You may score some marks.<br></div>"
      ],
      "text/plain": [
       "<IPython.core.display.HTML object>"
      ]
     },
     "metadata": {},
     "output_type": "display_data"
    }
   ],
   "source": [
    "score,feedback= MarkingFunction(\"student_wb3.py\")\n",
    "\n",
    "print(f'Your code scores {score} out of 12 on the self checker')\n",
    "\n",
    "from IPython.display import display, HTML\n",
    "display(HTML(feedback))"
   ]
  }
 ],
 "metadata": {
  "kernelspec": {
   "display_name": "Python 3",
   "language": "python",
   "name": "python3"
  },
  "language_info": {
   "codemirror_mode": {
    "name": "ipython",
    "version": 3
   },
   "file_extension": ".py",
   "mimetype": "text/x-python",
   "name": "python",
   "nbconvert_exporter": "python",
   "pygments_lexer": "ipython3",
   "version": "3.12.3"
  }
 },
 "nbformat": 4,
 "nbformat_minor": 5
}
